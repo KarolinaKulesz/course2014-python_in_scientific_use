{
 "metadata": {
  "name": "",
  "signature": "sha256:fd1b43b4fbb18e6c4dafc537c7ba8f4140a16c0627efac3798330fdfa167c65c"
 },
 "nbformat": 3,
 "nbformat_minor": 0,
 "worksheets": [
  {
   "cells": [
    {
     "cell_type": "code",
     "collapsed": false,
     "input": [
      "import numpy as np"
     ],
     "language": "python",
     "metadata": {},
     "outputs": [],
     "prompt_number": 1
    },
    {
     "cell_type": "code",
     "collapsed": false,
     "input": [
      "m2 = np.memmap(\"data.bin\", dtype=\"float\", shape=(1000, 10000)) #zasysamy N serii wspolrzednych y"
     ],
     "language": "python",
     "metadata": {},
     "outputs": [],
     "prompt_number": 2
    },
    {
     "cell_type": "code",
     "collapsed": false,
     "input": [
      "x = np.linspace(-40, 40, 10000) #generujemy zbi\u00f3r X\n",
      "y = m2[50]     #wybrana seria Y"
     ],
     "language": "python",
     "metadata": {},
     "outputs": [],
     "prompt_number": 3
    },
    {
     "cell_type": "code",
     "collapsed": false,
     "input": [
      "%matplotlib inline\n",
      "import pylab"
     ],
     "language": "python",
     "metadata": {},
     "outputs": [],
     "prompt_number": 4
    },
    {
     "cell_type": "code",
     "collapsed": false,
     "input": [
      "pylab.plot(x, y)\n",
      "#print(y[0], y[1])\n",
      "z = y[1:]-y[:-1]\n",
      "print(x[np.floor((np.argmin(z)-np.argmax(z))/2)+np.argmax(z)])\n",
      "print(z)"
     ],
     "language": "python",
     "metadata": {},
     "outputs": [
      {
       "output_type": "stream",
       "stream": "stdout",
       "text": [
        "5.25252525253\n",
        "[-0.00019333 -0.00019333 -0.00019333 ..., -0.00019333 -0.00019333\n",
        " -0.00019333]\n"
       ]
      },
      {
       "metadata": {},
       "output_type": "display_data",
       "png": "[encoded data removed]",
       "text": [
        "<matplotlib.figure.Figure at 0x7f32c8211400>"
       ]
      }
     ],
     "prompt_number": 5
    },
    {
     "cell_type": "code",
     "collapsed": false,
     "input": [
      "#wspolczynniki\n",
      "d=0\n",
      "e=0\n",
      "a=max(y)\n",
      "b = np.average(x*y)\n",
      "c = np.sqrt(sum((y-b)**2)/len(x))"
     ],
     "language": "python",
     "metadata": {},
     "outputs": [],
     "prompt_number": 6
    },
    {
     "cell_type": "code",
     "collapsed": false,
     "input": [
      "import scipy.optimize as o\n",
      "\n",
      "from IPython.parallel import Client\n",
      "rc = Client(profile='default')\n",
      "dview = rc.direct_view()\n",
      "\n",
      "dview.scatter('Y', m2) # Przesy\u0142am dane do silnik\u00f3w\n",
      "dview.push({\"X\": x})"
     ],
     "language": "python",
     "metadata": {},
     "outputs": [
      {
       "metadata": {},
       "output_type": "pyout",
       "prompt_number": 7,
       "text": [
        "<AsyncResult: finished>"
       ]
      }
     ],
     "prompt_number": 7
    },
    {
     "cell_type": "code",
     "collapsed": false,
     "input": [
      "%%px\n",
      "import numpy as np\n",
      "import scipy.optimize as o\n",
      "def fitfunc(x,a,b,c,d,e):\n",
      "    return a*np.exp(-np.power(x-b,2)/(2*np.power(c,2)))+d*x+e\n",
      "def linear(x,d,e):\n",
      "    return d*x+e\n",
      "def gauss(x,a,b,c):\n",
      "    return a*np.exp(-np.power(x-b,2)/(2*np.power(c,2)))\n",
      "C = []\n",
      "Linear=[]\n",
      "Gauss=[]\n",
      "for ii, Yi in enumerate(Y):\n",
      "    d=0\n",
      "    e=0\n",
      "    a=max(Yi)\n",
      "    b = np.average(X*Yi)\n",
      "    c = np.sqrt(sum((Yi-b)**2)/len(X))\n",
      "    try:\n",
      "        p, pp = o.curve_fit(fitfunc,X,Yi,p0 = (a,b,c,d,e))\n",
      "    except RuntimeError:\n",
      "        z = Yi[1:]-Yi[:-1]\n",
      "        i = np.floor((np.argmin(z)-np.argmax(z))/2)+np.argmax(z)\n",
      "        b = X[i]\n",
      "        a = Yi[i]\n",
      "        c = np.sqrt(sum((Yi-b)**2)/len(X))\n",
      "        p, pp = o.curve_fit(fitfunc,X,Yi,p0 = (a,b,c,d,e))\n",
      "    C.append(fitfunc(X,p[0],p[1],p[2],p[3],p[4]))\n",
      "    Linear.append(linear(X,p[3],p[4]))\n",
      "    Gauss.append(gauss(X,p[0],p[1],p[2]))"
     ],
     "language": "python",
     "metadata": {},
     "outputs": [],
     "prompt_number": 9
    },
    {
     "cell_type": "code",
     "collapsed": false,
     "input": [
      "#zasysamy wyniki obliczen z klastrow\n",
      "C = dview.pull('C')\n",
      "Linear = dview.pull('Linear')\n",
      "Gauss = dview.pull('Gauss')\n"
     ],
     "language": "python",
     "metadata": {},
     "outputs": [],
     "prompt_number": 10
    },
    {
     "cell_type": "code",
     "collapsed": false,
     "input": [
      "#przyk\u0142adowy fit\n",
      "y=m2[50]\n",
      "#print(C[0][1])\n",
      "pylab.plot(x,y)\n",
      "pylab.plot(x,C[0][50])\n",
      "pylab.plot(x,Linear[0][50])\n",
      "pylab.plot(x,Gauss[0][50])\n"
     ],
     "language": "python",
     "metadata": {},
     "outputs": [
      {
       "metadata": {},
       "output_type": "pyout",
       "prompt_number": 12,
       "text": [
        "[<matplotlib.lines.Line2D at 0x7f32c81b70f0>]"
       ]
      },
      {
       "metadata": {},
       "output_type": "display_data",
       "png": "[encoded data removed]",
       "text": [
        "<matplotlib.figure.Figure at 0x7f32c27337f0>"
       ]
      }
     ],
     "prompt_number": 12
    }
   ],
   "metadata": {}
  }
 ]
}