{
 "metadata": {
  "name": "",
  "signature": "sha256:831d1b2b1f39272d0efb32ac6f7a4be78c7508c67d96cb12c0b180ebd3130fdb"
 },
 "nbformat": 3,
 "nbformat_minor": 0,
 "worksheets": []
}